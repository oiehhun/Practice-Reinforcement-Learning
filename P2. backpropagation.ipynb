{
 "cells": [
  {
   "cell_type": "code",
   "execution_count": 1,
   "metadata": {},
   "outputs": [],
   "source": [
    "import torch\n",
    "from torch.autograd import Variable\n",
    "\n",
    "x = Variable(torch.tensor(1., dtype=torch.float32), requires_grad=True)\n",
    "y = Variable(torch.tensor(1., dtype=torch.float32), requires_grad=True)\n",
    "z = Variable(torch.tensor(1., dtype=torch.float32), requires_grad=True)\n",
    "\n",
    "optimizer = torch.optim.SGD([x, y, z], lr=0.01)\n",
    "\n",
    "EPOCHS = 100\n",
    "\n",
    "for epoch in range(EPOCHS):\n",
    "    f = (x + y + z)**2 + (x-1)**2 + (y-1)**2 + (z-1)**2\n",
    "    \n",
    "    optimizer.zero_grad()\n",
    "    f.backward()\n",
    "    optimizer.step()"
   ]
  },
  {
   "cell_type": "code",
   "execution_count": 2,
   "metadata": {},
   "outputs": [
    {
     "data": {
      "text/plain": [
       "(tensor(0.2502, requires_grad=True),\n",
       " tensor(0.2502, requires_grad=True),\n",
       " tensor(0.2502, requires_grad=True))"
      ]
     },
     "execution_count": 2,
     "metadata": {},
     "output_type": "execute_result"
    }
   ],
   "source": [
    "x, y, z"
   ]
  },
  {
   "cell_type": "code",
   "execution_count": 1,
   "metadata": {},
   "outputs": [],
   "source": [
    "import math\n",
    "import torch\n",
    "from torch.autograd import Variable\n",
    "\n",
    "x = Variable(torch.tensor(1., dtype=torch.float32), requires_grad=True)\n",
    "y = Variable(torch.tensor(1., dtype=torch.float32), requires_grad=True)\n",
    "\n",
    "optimizer = torch.optim.SGD([x, y], lr=0.01)\n",
    "\n",
    "EPOCHS = 100\n",
    "\n",
    "for epoch in range(EPOCHS):\n",
    "    f = 2*x**2 + y**2 + math.exp(4*x*y)\n",
    "    \n",
    "    optimizer.zero_grad()\n",
    "    f.backward()\n",
    "    optimizer.step()"
   ]
  },
  {
   "cell_type": "code",
   "execution_count": 2,
   "metadata": {},
   "outputs": [
    {
     "data": {
      "text/plain": [
       "(tensor(0.0169, requires_grad=True), tensor(0.1326, requires_grad=True))"
      ]
     },
     "execution_count": 2,
     "metadata": {},
     "output_type": "execute_result"
    }
   ],
   "source": [
    "x, y"
   ]
  }
 ],
 "metadata": {
  "kernelspec": {
   "display_name": "rl",
   "language": "python",
   "name": "python3"
  },
  "language_info": {
   "codemirror_mode": {
    "name": "ipython",
    "version": 3
   },
   "file_extension": ".py",
   "mimetype": "text/x-python",
   "name": "python",
   "nbconvert_exporter": "python",
   "pygments_lexer": "ipython3",
   "version": "3.9.21"
  }
 },
 "nbformat": 4,
 "nbformat_minor": 2
}
